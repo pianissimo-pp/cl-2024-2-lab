{
 "cells": [
  {
   "cell_type": "markdown",
   "id": "d75fb91f-ad1a-424a-a41d-3f155af52349",
   "metadata": {
    "editable": true,
    "id": "QybO5wX9cmJW",
    "slideshow": {
     "slide_type": "slide"
    },
    "tags": []
   },
   "source": [
    "# 3. Propiedades estadísticas del lenguaje natural"
   ]
  },
  {
   "cell_type": "markdown",
   "id": "4bd84aad-12ba-4763-ad56-d39fac90d81a",
   "metadata": {
    "editable": true,
    "slideshow": {
     "slide_type": "subslide"
    },
    "tags": []
   },
   "source": [
    "## Objetivo"
   ]
  },
  {
   "cell_type": "markdown",
   "id": "236644a4-1c5a-4664-88c2-d09e304fa144",
   "metadata": {
    "editable": true,
    "slideshow": {
     "slide_type": "fragment"
    },
    "tags": []
   },
   "source": [
    "- Explorar propiedades estadísticas del lenguaje natural\n",
    "- Observar si se cumplen propiedades como:\n",
    "    - La distribución de Zipf\n",
    "    - La distribución de Heap\n",
    "- Observar como impacta la normalización "
   ]
  },
  {
   "cell_type": "markdown",
   "id": "800a10b9-8e1b-4905-9265-95aa149d1b88",
   "metadata": {
    "editable": true,
    "id": "__j_u2KcF3hz",
    "slideshow": {
     "slide_type": "subslide"
    },
    "tags": []
   },
   "source": [
    "## Perspectivas formales"
   ]
  },
  {
   "cell_type": "markdown",
   "id": "92087180-f3e3-4ce8-aadf-1f62bc0e4f27",
   "metadata": {
    "editable": true,
    "slideshow": {
     "slide_type": "fragment"
    },
    "tags": []
   },
   "source": [
    "- Fueron el primer acercamiento al procesamiento del lenguaje natural. Sin embargo tienen varias **desventajas**\n",
    "- Requieren **conocimiento previo de la lengua**\n",
    "- Las herramientas son especificas de la lengua\n",
    "- Los fenomenos que se presentan son muy amplios y dificilmente se pueden abarcar con reglas formales (muchos casos especiales)\n",
    "- Las reglas tienden a ser rigidas y no admiten incertidumbre en el resultado"
   ]
  },
  {
   "cell_type": "markdown",
   "id": "c0f6a460-c42b-488e-ae47-2aac94a23700",
   "metadata": {
    "editable": true,
    "id": "9eXBkslNwd7-",
    "slideshow": {
     "slide_type": "subslide"
    },
    "tags": []
   },
   "source": [
    "## Perspectiva estadística"
   ]
  },
  {
   "cell_type": "markdown",
   "id": "72884cf6-d082-47cf-a6a3-43927eeb67c4",
   "metadata": {
    "editable": true,
    "id": "BTrnxln6wt--",
    "slideshow": {
     "slide_type": "fragment"
    },
    "tags": []
   },
   "source": [
    "- Puede integrar aspectos de la perspectiva formal\n",
    "- Lidia mejor con la incertidumbre y es menos rigida que la perspectiva formal\n",
    "- No requiere conocimiento profundo de la lengua. Se pueden obtener soluciones de forma no supervisada"
   ]
  },
  {
   "cell_type": "markdown",
   "id": "e81eec3f-0bce-4fa7-b10e-6c2e083df489",
   "metadata": {
    "editable": true,
    "id": "axPN_dt4xtnp",
    "slideshow": {
     "slide_type": "subslide"
    },
    "tags": []
   },
   "source": [
    "### Modelos estadísticos"
   ]
  },
  {
   "cell_type": "markdown",
   "id": "a1aede65-078c-40d2-bf4e-0d7feb9fbd69",
   "metadata": {
    "editable": true,
    "id": "IL53Cz22xv_K",
    "slideshow": {
     "slide_type": "fragment"
    },
    "tags": []
   },
   "source": [
    "- Las **frecuencias** juegan un papel fundamental para hacer una descripción acertada del lenguaje\n",
    "- Las frecuencias nos dan información de la **distribución de tokens**, de la cual podemos estimar probabilidades.\n",
    "- Existen **leyes empíricas del lenguaje** que nos indican como se comportan las lenguas a niveles estadísticos\n",
    "- A partir de estas leyes y otras reglas estadísticas podemos crear **modelos del lenguaje**; es decir, asignar probabilidades a las unidades lingüísticas"
   ]
  },
  {
   "cell_type": "code",
   "execution_count": null,
   "id": "fcde7b63-6ae9-4b58-a422-8fe6a11eb406",
   "metadata": {
    "editable": true,
    "id": "N9JDvDSHub2V",
    "slideshow": {
     "slide_type": ""
    },
    "tags": []
   },
   "outputs": [],
   "source": [
    "# Bibliotecas\n",
    "from collections import Counter\n",
    "import matplotlib.pyplot as plt\n",
    "plt.rcParams['figure.figsize'] = [15, 6]\n",
    "from re import sub\n",
    "import numpy as np\n",
    "import pandas as pd\n",
    "from itertools import chain"
   ]
  },
  {
   "cell_type": "code",
   "execution_count": null,
   "id": "47909d46-5b77-4237-b319-825a61cd4d8a",
   "metadata": {
    "colab": {
     "base_uri": "https://localhost:8080/"
    },
    "editable": true,
    "executionInfo": {
     "elapsed": 141,
     "status": "ok",
     "timestamp": 1695680112256,
     "user": {
      "displayName": "Diego Alberto Barriga Martínez",
      "userId": "06235177150913802056"
     },
     "user_tz": 360
    },
    "id": "zP8gw3oLch_I",
    "outputId": "65c27951-9a98-45ad-b282-90d7e5933b08",
    "slideshow": {
     "slide_type": ""
    },
    "tags": []
   },
   "outputs": [],
   "source": [
    "mini_corpus = \"\"\"Humanismo es un concepto polisémico que se aplica tanto al estudio de las letras humanas, los\n",
    "estudios clásicos y la filología grecorromana como a una genérica doctrina o actitud vital que\n",
    "concibe de forma integrada los valores humanos. Por otro lado, también se denomina humanis-\n",
    "mo al «sistema de creencias centrado en el principio de que las necesidades de la sensibilidad\n",
    "y de la inteligencia humana pueden satisfacerse sin tener que aceptar la existencia de Dios\n",
    "y la predicación de las religiones», lo que se aproxima al laicismo o a posturas secularistas.\n",
    "Se aplica como denominación a distintas corrientes filosóficas, aunque de forma particular,\n",
    "al humanismo renacentista1 (la corriente cultural europea desarrollada de forma paralela al\n",
    "Renacimiento a partir de sus orígenes en la Italia del siglo XV), caracterizado a la vez por su\n",
    "vocación filológica clásica y por su antropocentrismo frente al teocentrismo medieval\n",
    "\"\"\"\n",
    "words = mini_corpus.replace(\"\\n\", \" \").split(\" \")\n",
    "len(words)"
   ]
  },
  {
   "cell_type": "code",
   "execution_count": null,
   "id": "a805a75d-5488-4d59-b562-4edba601ea60",
   "metadata": {
    "colab": {
     "base_uri": "https://localhost:8080/"
    },
    "executionInfo": {
     "elapsed": 189,
     "status": "ok",
     "timestamp": 1695680133678,
     "user": {
      "displayName": "Diego Alberto Barriga Martínez",
      "userId": "06235177150913802056"
     },
     "user_tz": 360
    },
    "id": "UyVe47bxzVKn",
    "outputId": "05badd03-2abb-48ae-f0b2-8b080a741a21"
   },
   "outputs": [],
   "source": [
    "vocabulary = Counter(words)\n",
    "vocabulary.most_common(10)"
   ]
  },
  {
   "cell_type": "code",
   "execution_count": null,
   "id": "1f7c7d4e-632a-4bdd-bad6-e51e1e31b8fd",
   "metadata": {
    "colab": {
     "base_uri": "https://localhost:8080/"
    },
    "executionInfo": {
     "elapsed": 145,
     "status": "ok",
     "timestamp": 1695680188436,
     "user": {
      "displayName": "Diego Alberto Barriga Martínez",
      "userId": "06235177150913802056"
     },
     "user_tz": 360
    },
    "id": "lcByyl9wz4Bf",
    "outputId": "27f40707-09f9-4e9b-8bc5-858ac2a7eb21"
   },
   "outputs": [],
   "source": [
    "len(vocabulary)"
   ]
  },
  {
   "cell_type": "code",
   "execution_count": null,
   "id": "4fd2f6c5-b29e-47a7-a4be-8027fb073dee",
   "metadata": {
    "id": "X-_K4QTKdYkF"
   },
   "outputs": [],
   "source": [
    "def get_frequencies(vocabulary: Counter, n: int) -> list:\n",
    "    return [_[1] for _ in vocabulary.most_common(n)]\n",
    "\n",
    "def plot_frequencies(frequencies: list, title=\"Freq of words\", log_scale=False):\n",
    "    x = list(range(1, len(frequencies)+1))\n",
    "    plt.plot(x, frequencies, \"-v\")\n",
    "    plt.xlabel(\"Freq rank (r)\")\n",
    "    plt.ylabel(\"Freq (f)\")\n",
    "    if log_scale:\n",
    "        plt.xscale(\"log\")\n",
    "        plt.yscale(\"log\")\n",
    "    plt.title(title)"
   ]
  },
  {
   "cell_type": "code",
   "execution_count": null,
   "id": "c944803e-f341-45c6-83a1-ab634a097de6",
   "metadata": {
    "colab": {
     "base_uri": "https://localhost:8080/",
     "height": 467
    },
    "editable": true,
    "executionInfo": {
     "elapsed": 448,
     "status": "ok",
     "timestamp": 1695680259751,
     "user": {
      "displayName": "Diego Alberto Barriga Martínez",
      "userId": "06235177150913802056"
     },
     "user_tz": 360
    },
    "id": "Rrq5cTSL0LTg",
    "outputId": "987e63c2-a8c0-460d-ec42-3435d9184516",
    "slideshow": {
     "slide_type": ""
    },
    "tags": []
   },
   "outputs": [],
   "source": [
    "frequencies = get_frequencies(vocabulary, 100)\n",
    "plot_frequencies(frequencies)"
   ]
  },
  {
   "cell_type": "code",
   "execution_count": null,
   "id": "e200292c-38bf-43fa-8f29-8c4cbf7248cd",
   "metadata": {},
   "outputs": [],
   "source": [
    "plot_frequencies(frequencies, log_scale=True)"
   ]
  },
  {
   "cell_type": "markdown",
   "id": "247bc5ce-a41f-4fd4-a9e5-0a7dea01a21a",
   "metadata": {
    "editable": true,
    "slideshow": {
     "slide_type": ""
    },
    "tags": []
   },
   "source": [
    "### ¿Qué pasará con más datos? 📊"
   ]
  },
  {
   "cell_type": "markdown",
   "id": "80171042-187c-46ce-91a7-f995630071de",
   "metadata": {},
   "source": [
    "## Ley Zipf"
   ]
  },
  {
   "cell_type": "markdown",
   "id": "9910d584-735a-426e-b9c3-4893295b063b",
   "metadata": {
    "id": "zhff2_1Gl-fj"
   },
   "source": [
    "Exploraremos el Corpus de Referencia del Español Actual [CREA](https://www.rae.es/banco-de-datos/crea/crea-escrito)"
   ]
  },
  {
   "cell_type": "markdown",
   "id": "f466c7d7-31ad-451e-a212-3e6fa35abbce",
   "metadata": {},
   "source": [
    "<center><img src=\"img/crea.png\"></center>"
   ]
  },
  {
   "cell_type": "code",
   "execution_count": null,
   "id": "9c27be36-10c2-4005-a9b4-b4993385d022",
   "metadata": {},
   "outputs": [],
   "source": [
    "!head corpora/zipf/crea_full.csv"
   ]
  },
  {
   "cell_type": "code",
   "execution_count": null,
   "id": "4695b71a-3ece-4236-93d6-cf254184ea78",
   "metadata": {
    "colab": {
     "base_uri": "https://localhost:8080/",
     "height": 363
    },
    "executionInfo": {
     "elapsed": 1446,
     "status": "ok",
     "timestamp": 1709598025605,
     "user": {
      "displayName": "Diego Alberto Barriga Martínez",
      "userId": "06235177150913802056"
     },
     "user_tz": 360
    },
    "id": "ORaN-mExS07f",
    "outputId": "44d791da-a7c6-4301-d5df-64ae353e155f"
   },
   "outputs": [],
   "source": [
    "corpus_freqs = pd.read_csv('corpora/zipf/crea_full.csv', delimiter='\\t', encoding=\"latin-1\")\n",
    "N = len(set(chain(*[list(str(w)) for w in corpus_freqs['words'].to_list()])))\n",
    "corpus_freqs.head(10)"
   ]
  },
  {
   "cell_type": "code",
   "execution_count": null,
   "id": "cad79270-55b1-4c66-acf7-ed1e3d9fce7b",
   "metadata": {},
   "outputs": [],
   "source": [
    "corpus_freqs.iloc[-10]"
   ]
  },
  {
   "cell_type": "code",
   "execution_count": null,
   "id": "cd7eafd6-f917-4a8a-88a2-f67d7a3bbabd",
   "metadata": {},
   "outputs": [],
   "source": [
    "corpus_freqs[corpus_freqs[\"words\"] == \"barriga\"]"
   ]
  },
  {
   "cell_type": "code",
   "execution_count": null,
   "id": "c1ac2343-ffb7-4214-a5e3-a072363df5ef",
   "metadata": {},
   "outputs": [],
   "source": [
    "corpus_freqs[\"freq\"].plot(marker=\"o\")\n",
    "plt.title('Ley de Zipf en el CREA')\n",
    "plt.xlabel('rank')\n",
    "plt.ylabel('freq')\n",
    "plt.show()"
   ]
  },
  {
   "cell_type": "code",
   "execution_count": null,
   "id": "dbac4ed0-7ebe-4ecb-9118-64cd57cf612d",
   "metadata": {},
   "outputs": [],
   "source": [
    "corpus_freqs['freq'].plot(loglog=True, legend=False)\n",
    "plt.title('Ley de Zipf en el CREA (log-log)')\n",
    "plt.xlabel('log rank')\n",
    "plt.ylabel('log frecuencia')\n",
    "plt.show()"
   ]
  },
  {
   "cell_type": "markdown",
   "id": "f862c1ab-0431-4dc6-9502-054c417bf255",
   "metadata": {
    "editable": true,
    "id": "O03JMfuSfYJl",
    "slideshow": {
     "slide_type": "slide"
    },
    "tags": []
   },
   "source": [
    "### Ley de Zipf"
   ]
  },
  {
   "cell_type": "markdown",
   "id": "a1f515f3-b7c7-4f75-bf79-453433fa064c",
   "metadata": {
    "editable": true,
    "id": "E8Jozc6MgYa9",
    "slideshow": {
     "slide_type": "fragment"
    },
    "tags": []
   },
   "source": [
    "- Notamos que las frecuencias entre lenguas siguen un patrón\n",
    "- Pocas palabras (tipos) son muy frecuentes, mientras que la mayoría de palabras ocurren pocas veces\n",
    "\n",
    "De hecho, la frecuencia de la palabra que ocupa la posición r en el rank, es proporcional a $\\frac{1}{r}$ (La palabra más frecuente ocurrirá aproximadamente el doble de veces que la segunda palabra más frecuente en el corpus y tres veces más que la tercer palabra más frecuente del corpus, etc)\n",
    "\n",
    "$$f(w_r) \\propto \\frac{1}{r^α}$$\n",
    "\n",
    "Donde:\n",
    "- $r$ es el rank que ocupa la palabra en el corpus\n",
    "- $f(w_r)$ es la frecuencia de la palabra en el corpus\n",
    "- $\\alpha$ es un parámetro, el valor dependerá del corpus o fenómeno que estemos observando"
   ]
  },
  {
   "cell_type": "markdown",
   "id": "20dd3f85-8529-4c51-ba5f-baf360d57722",
   "metadata": {
    "editable": true,
    "id": "LQwxUIU8jjpD",
    "slideshow": {
     "slide_type": "subslide"
    },
    "tags": []
   },
   "source": [
    "### Formulación de la Ley de Zipf:"
   ]
  },
  {
   "cell_type": "markdown",
   "id": "ce8cd277-a347-49f0-b538-e1663a18e1b6",
   "metadata": {
    "editable": true,
    "slideshow": {
     "slide_type": "fragment"
    },
    "tags": []
   },
   "source": [
    "$f(w_{r})=\\frac{c}{r^{\\alpha }}$\n",
    "\n",
    "En la escala logarítimica:\n",
    "\n",
    "$log(f(w_{r}))=log(\\frac{c}{r^{\\alpha }})$\n",
    "\n",
    "$log(f(w_{r}))=log (c)-\\alpha log (r)$"
   ]
  },
  {
   "cell_type": "markdown",
   "id": "c5478d39-c537-41f9-97f8-647bb47c9059",
   "metadata": {
    "editable": true,
    "slideshow": {
     "slide_type": ""
    },
    "tags": []
   },
   "source": [
    "### ❓ ¿Cómo estimar el parámetro $\\alpha$?"
   ]
  },
  {
   "cell_type": "code",
   "execution_count": null,
   "id": "d31c427c-da74-47db-bae2-70e0892e0bad",
   "metadata": {
    "colab": {
     "base_uri": "https://localhost:8080/"
    },
    "editable": true,
    "executionInfo": {
     "elapsed": 13976,
     "status": "ok",
     "timestamp": 1709598069231,
     "user": {
      "displayName": "Diego Alberto Barriga Martínez",
      "userId": "06235177150913802056"
     },
     "user_tz": 360
    },
    "id": "SzdvuX_vf-Rm",
    "outputId": "5930a33e-079b-4893-dea5-9fc27d0db59c",
    "slideshow": {
     "slide_type": ""
    },
    "tags": []
   },
   "outputs": [],
   "source": [
    "from scipy.optimize import minimize\n",
    "\n",
    "def calculate_alpha(ranks: np.array, frecs: np.array) -> float:\n",
    "    # Inicialización\n",
    "    a0 = 1\n",
    "    # Función de minimización:\n",
    "    func = lambda a: sum((np.log(frecs)-(np.log(frecs[0])-a*np.log(ranks)))**2)\n",
    "    # Minimización: Usando minimize de scipy.optimize:\n",
    "    return minimize(func, a0).x[0] \n",
    "\n",
    "ranks = np.array(corpus_freqs.index) + 1\n",
    "frecs = np.array(corpus_freqs['freq'])\n",
    "\n",
    "a_hat = calculate_alpha(ranks, frecs)\n",
    "\n",
    "print('alpha:', a_hat, '\\nMSE:', func(a_hat))"
   ]
  },
  {
   "cell_type": "code",
   "execution_count": null,
   "id": "576109e1-585a-4daa-a566-f68f682e415a",
   "metadata": {
    "editable": true,
    "slideshow": {
     "slide_type": ""
    },
    "tags": []
   },
   "outputs": [],
   "source": [
    "def plot_generate_zipf(alpha: np.float64, ranks: np.array, freqs: np.array) -> None:\n",
    "    plt.plot(np.log(ranks), -a_hat*np.log(ranks) + np.log(frecs[0]), color='r', label='Aproximación Zipf')"
   ]
  },
  {
   "cell_type": "code",
   "execution_count": null,
   "id": "acc520c8-3652-411f-a1a9-b56354bff261",
   "metadata": {
    "colab": {
     "base_uri": "https://localhost:8080/",
     "height": 449
    },
    "executionInfo": {
     "elapsed": 1157,
     "status": "ok",
     "timestamp": 1709598075410,
     "user": {
      "displayName": "Diego Alberto Barriga Martínez",
      "userId": "06235177150913802056"
     },
     "user_tz": 360
    },
    "id": "CwUNoLdLiPw0",
    "outputId": "d945622f-cdae-4253-e92f-cb57d6e41f66"
   },
   "outputs": [],
   "source": [
    "#plt.plot(np.log(ranks), -a_hat*np.log(ranks) + np.log(frecs[0]), color='r', label='Aproximación Zipf')\n",
    "plot_generate_zipf(a_hat, ranks, frecs)\n",
    "plt.plot(np.log(ranks), np.log(frecs), color='b', label='Distribución original')\n",
    "plt.xlabel('log ranks')\n",
    "plt.ylabel('log frecs')\n",
    "plt.legend(bbox_to_anchor=(1, 1))\n",
    "plt.show()"
   ]
  },
  {
   "cell_type": "markdown",
   "id": "9c1f87bb-9653-4d4c-ace0-e4ad434c0fac",
   "metadata": {
    "editable": true,
    "slideshow": {
     "slide_type": "subslide"
    },
    "tags": []
   },
   "source": [
    "## Ley de Heap"
   ]
  },
  {
   "cell_type": "markdown",
   "id": "31335455-7b4a-45c9-af8d-a88372201080",
   "metadata": {
    "editable": true,
    "slideshow": {
     "slide_type": "fragment"
    },
    "tags": []
   },
   "source": [
    "Relación entre el número de **tokens** y **tipos** de un corpus\n",
    "\n",
    "$$T \\propto N^b$$\n",
    "\n",
    "Dónde:\n",
    "\n",
    "- $T = $ número de tipos\n",
    "- $N = $ número de tokens\n",
    "- $b = $ parámetro  "
   ]
  },
  {
   "cell_type": "markdown",
   "id": "f98a1bde-ea46-42e5-bd86-859d587e18c1",
   "metadata": {
    "editable": true,
    "id": "EgBcTeNEcfgG",
    "slideshow": {
     "slide_type": "fragment"
    },
    "tags": []
   },
   "source": [
    "- **TOKENS**: Número total de palabras dentro del texto (incluidas repeticiones)\n",
    "- **TIPOS**: Número total de palabras únicas en el texto"
   ]
  },
  {
   "cell_type": "code",
   "execution_count": null,
   "id": "e08617b5-a2a3-4674-8c26-66bea37cb8ce",
   "metadata": {},
   "outputs": [],
   "source": [
    "# Obtenemos los tipos y tokens\n",
    "total_tokens = corpus_freqs[\"freq\"].sum()\n",
    "total_types = len(corpus_freqs)"
   ]
  },
  {
   "cell_type": "code",
   "execution_count": null,
   "id": "117a7464-506d-4395-8734-a10332af794d",
   "metadata": {},
   "outputs": [],
   "source": [
    "# Ordenamos el corpus por frecuencia\n",
    "corpus_freqs_sorted = corpus_freqs.sort_values(by='freq', ascending=False)\n",
    "\n",
    "# Calculamos la frecuencia acumulada\n",
    "corpus_freqs_sorted['cum_tokens'] = corpus_freqs_sorted['freq'].cumsum()\n",
    "\n",
    "# Calculamos el número acumulado de tipos\n",
    "corpus_freqs_sorted['cum_types'] = range(1, total_types + 1)"
   ]
  },
  {
   "cell_type": "code",
   "execution_count": null,
   "id": "3109c42b-0ef7-4d6c-bf9d-9d458f0097cb",
   "metadata": {},
   "outputs": [],
   "source": [
    "corpus_freqs_sorted.head()"
   ]
  },
  {
   "cell_type": "code",
   "execution_count": null,
   "id": "04fd2ba2-72ce-4543-93c0-de16f4c58b4b",
   "metadata": {},
   "outputs": [],
   "source": [
    "# Plot de la ley de Heap\n",
    "plt.plot(corpus_freqs_sorted['cum_types'], corpus_freqs_sorted['cum_tokens'])\n",
    "plt.xscale(\"log\")\n",
    "plt.yscale(\"log\")\n",
    "plt.xlabel('Types')\n",
    "plt.ylabel('Tokens')\n",
    "plt.title('Ley de Heap')\n",
    "plt.show()"
   ]
  },
  {
   "cell_type": "markdown",
   "id": "c0520ac6-7638-4ddf-a978-a0569edf9d1d",
   "metadata": {
    "editable": true,
    "id": "3Lx8R7XF8ByR",
    "slideshow": {
     "slide_type": "slide"
    },
    "tags": []
   },
   "source": [
    "## ¿Otros idiomas? 🇧🇴 🇨🇦 🇲🇽"
   ]
  },
  {
   "cell_type": "markdown",
   "id": "63baa8e4-9a80-4f0b-a42f-819e28878354",
   "metadata": {
    "editable": true,
    "slideshow": {
     "slide_type": "subslide"
    },
    "tags": []
   },
   "source": [
    "### Presentando `pyelotl` 🌽"
   ]
  },
  {
   "cell_type": "code",
   "execution_count": null,
   "id": "79fa3879-1530-447b-8279-8358fa8dd4c8",
   "metadata": {
    "editable": true,
    "slideshow": {
     "slide_type": "fragment"
    },
    "tags": []
   },
   "outputs": [],
   "source": [
    "!pip install elotl"
   ]
  },
  {
   "cell_type": "markdown",
   "id": "0170f351-ac7d-41fc-bac1-cecc74eb084a",
   "metadata": {
    "editable": true,
    "id": "D3VPGDxn9G6-",
    "slideshow": {
     "slide_type": "fragment"
    },
    "tags": []
   },
   "source": [
    "- [Documentación](https://pypi.org/project/elotl/)\n",
    "- Paquete para desarrollo de herramientas de NLP enfocado en lenguas de bajos recursos digitales habladas en México"
   ]
  },
  {
   "cell_type": "code",
   "execution_count": null,
   "id": "12a18fb8-c9bd-4c20-bc89-f0fa9a2cb0aa",
   "metadata": {
    "colab": {
     "base_uri": "https://localhost:8080/"
    },
    "editable": true,
    "executionInfo": {
     "elapsed": 210,
     "status": "ok",
     "timestamp": 1695680798411,
     "user": {
      "displayName": "Diego Alberto Barriga Martínez",
      "userId": "06235177150913802056"
     },
     "user_tz": 360
    },
    "id": "H-PWk45K8IZj",
    "outputId": "fe6762b3-afbd-43ac-df50-b40ba17c8390",
    "slideshow": {
     "slide_type": "subslide"
    },
    "tags": []
   },
   "outputs": [],
   "source": [
    "from elotl import corpus as elotl_corpus\n",
    "\n",
    "\n",
    "print(\"Name\\t\\tDescription\")\n",
    "for row in elotl_corpus.list_of_corpus():\n",
    "    print(row)"
   ]
  },
  {
   "cell_type": "markdown",
   "id": "736abe2d-aa97-4a7d-86cb-2645acb2c59b",
   "metadata": {
    "editable": true,
    "id": "8suXldYhbX-a",
    "slideshow": {
     "slide_type": "fragment"
    },
    "tags": []
   },
   "source": [
    "Cada corpus se pueden visualizar y navegar a través de interfaz web.\n",
    "- [Axolotl](https://axolotl-corpus.mx/)\n",
    "- [Tsunkua](https://tsunkua.elotl.mx/)"
   ]
  },
  {
   "cell_type": "code",
   "execution_count": null,
   "id": "2085149f-2ab0-4b0f-8bfd-fe62ae1a4970",
   "metadata": {
    "colab": {
     "base_uri": "https://localhost:8080/"
    },
    "editable": true,
    "executionInfo": {
     "elapsed": 443,
     "status": "ok",
     "timestamp": 1695680866391,
     "user": {
      "displayName": "Diego Alberto Barriga Martínez",
      "userId": "06235177150913802056"
     },
     "user_tz": 360
    },
    "id": "TOmKkwj2-HbQ",
    "outputId": "93887ce3-f944-4cb8-9e68-fb728ebb88f7",
    "slideshow": {
     "slide_type": ""
    },
    "tags": []
   },
   "outputs": [],
   "source": [
    "axolotl = elotl_corpus.load(\"axolotl\")\n",
    "for row in axolotl:\n",
    "    print(\"Lang 1 (es) =\", row[0])\n",
    "    print(\"Lang 2 (nah) =\", row[1])\n",
    "    print(\"Variante =\", row[2])\n",
    "    print(\"Documento de origen =\", row[3])\n",
    "    break"
   ]
  },
  {
   "cell_type": "code",
   "execution_count": null,
   "id": "a8911013-711b-45fa-bad7-157e0289f7fb",
   "metadata": {
    "colab": {
     "base_uri": "https://localhost:8080/"
    },
    "executionInfo": {
     "elapsed": 213,
     "status": "ok",
     "timestamp": 1695680887340,
     "user": {
      "displayName": "Diego Alberto Barriga Martínez",
      "userId": "06235177150913802056"
     },
     "user_tz": 360
    },
    "id": "r0tuk82I-2M1",
    "outputId": "7f057687-a587-41cb-9b91-d7ede0aa3baf"
   },
   "outputs": [],
   "source": [
    "tsunkua = elotl_corpus.load(\"tsunkua\")\n",
    "for row in tsunkua:\n",
    "    print(\"Lang 1 (es) =\", row[0])\n",
    "    print(\"Lang 2 (oto) =\", row[1])\n",
    "    print(\"Variante =\", row[2])\n",
    "    print(\"Documento de origen =\", row[3])\n",
    "    break"
   ]
  },
  {
   "cell_type": "code",
   "execution_count": null,
   "id": "79802eb7-f1fa-43f4-9c2f-4e73d7a0c1cd",
   "metadata": {},
   "outputs": [],
   "source": [
    "def extract_words_from_sentence(sentence: str) -> list:\n",
    "    return sub(r'[^\\w\\s\\']', ' ', sentence).lower().split()\n",
    "\n",
    "def get_words(corpus: list) -> tuple[list, list]:\n",
    "    words_l1 = []\n",
    "    words_l2 = []\n",
    "    for row in corpus:\n",
    "        words_l1.extend(extract_words_from_sentence(row[0]))\n",
    "        words_l2.extend(extract_words_from_sentence(row[1]))\n",
    "    return words_l1, words_l2"
   ]
  },
  {
   "cell_type": "code",
   "execution_count": null,
   "id": "17916878-9683-4ab0-963c-b782b99fdd49",
   "metadata": {
    "id": "_FBETQjlwN1K"
   },
   "outputs": [],
   "source": [
    "spanish_words_na, nahuatl_words = get_words(axolotl)\n",
    "spanish_words_oto, otomi_words = get_words(tsunkua)"
   ]
  },
  {
   "cell_type": "markdown",
   "id": "70adfe8b-bf89-476c-ba6c-304239eacb82",
   "metadata": {
    "id": "9HFEw6XJPjkA"
   },
   "source": [
    "### Tokens"
   ]
  },
  {
   "cell_type": "code",
   "execution_count": null,
   "id": "e225787a-de63-46d3-b7d8-88941614874e",
   "metadata": {
    "colab": {
     "base_uri": "https://localhost:8080/"
    },
    "editable": true,
    "executionInfo": {
     "elapsed": 144,
     "status": "ok",
     "timestamp": 1695681129287,
     "user": {
      "displayName": "Diego Alberto Barriga Martínez",
      "userId": "06235177150913802056"
     },
     "user_tz": 360
    },
    "id": "zjUmpt4AccEH",
    "outputId": "61a51735-d569-4c06-d7a4-9a7737dd22dd",
    "slideshow": {
     "slide_type": ""
    },
    "tags": []
   },
   "outputs": [],
   "source": [
    "print(\"Número total de palabras en náhuatl (corpus 1):\", len(nahuatl_words))\n",
    "print(\"Número total de palabras en español (corpus 1):\", len(spanish_words_na))\n",
    "print(\"Número total de palabras en otomí (corpus 2):\", len(otomi_words))\n",
    "print(\"Número total de palabras en español (corpus 2):\", len(spanish_words_oto))"
   ]
  },
  {
   "cell_type": "markdown",
   "id": "e0eebd47-2cc7-4bc8-b89b-673c68574555",
   "metadata": {
    "editable": true,
    "id": "dQIvSFmkcIa-",
    "jp-MarkdownHeadingCollapsed": true,
    "slideshow": {
     "slide_type": ""
    },
    "tags": []
   },
   "source": [
    "### ❓ ¿Porqué si son textos paralelos (traducciones) el número de palabras cambia tanto?"
   ]
  },
  {
   "cell_type": "markdown",
   "id": "dab947e1-9097-470b-919c-fe5c2e44e04f",
   "metadata": {
    "id": "qgv6d4QfPdRT"
   },
   "source": [
    "De manera general, por las diferencias inherentes de las lenguas para expresar los mismos conceptos, referencias, etc. De manera particular, estas diferencias revelan características morfológicas de las lenguas. El náhuatl es una lengua con tendencia aglutinante/polisintética, por lo tanto, tiene menos palabras pero con morfología rica que les permite codificar cosas que en lenguas como el Español aparecen en la sintaxis. Ejemplo:\n",
    "\n",
    "> titamaltlakwa - Nosotros comemos tamales"
   ]
  },
  {
   "cell_type": "markdown",
   "id": "71cbb7a3-6470-4c11-b715-499a5b9be64d",
   "metadata": {
    "id": "Oq2ijWa_Pyx5"
   },
   "source": [
    "### Tipos"
   ]
  },
  {
   "cell_type": "code",
   "execution_count": null,
   "id": "8518f4df-6c30-44e9-920e-ee03fdb17df5",
   "metadata": {
    "id": "7K_5WknZy5S-"
   },
   "outputs": [],
   "source": [
    "nahuatl_vocabulary = Counter(nahuatl_words)\n",
    "nahuatl_es_vocabulary = Counter(spanish_words_na)\n",
    "otomi_vocabulary = Counter(otomi_words)\n",
    "otomi_es_vocabulary = Counter(spanish_words_oto)"
   ]
  },
  {
   "cell_type": "code",
   "execution_count": null,
   "id": "9c818329-fccb-4d41-b477-53db0bf7a703",
   "metadata": {
    "colab": {
     "base_uri": "https://localhost:8080/"
    },
    "executionInfo": {
     "elapsed": 143,
     "status": "ok",
     "timestamp": 1695681422555,
     "user": {
      "displayName": "Diego Alberto Barriga Martínez",
      "userId": "06235177150913802056"
     },
     "user_tz": 360
    },
    "id": "k3KiQCcROlC3",
    "outputId": "ef5d0ec5-a9ed-4e93-d880-8afd5ec0fd26"
   },
   "outputs": [],
   "source": [
    "otomi_vocabulary.most_common(10)"
   ]
  },
  {
   "cell_type": "code",
   "execution_count": null,
   "id": "d69296a7-e709-41d0-bea0-947d5de0f1c3",
   "metadata": {
    "colab": {
     "base_uri": "https://localhost:8080/"
    },
    "executionInfo": {
     "elapsed": 160,
     "status": "ok",
     "timestamp": 1695681448329,
     "user": {
      "displayName": "Diego Alberto Barriga Martínez",
      "userId": "06235177150913802056"
     },
     "user_tz": 360
    },
    "id": "Rk_oRR-tO7rg",
    "outputId": "30c6bd8c-53ee-4e11-c12a-a5be9160b7c7"
   },
   "outputs": [],
   "source": [
    "print(\"Tamaño del vocabulario de nahúatl:\", len(nahuatl_vocabulary))\n",
    "print(\"Tamaño del vocabulario de español (corpus 1):\", len(nahuatl_es_vocabulary))\n",
    "print(\"Tamaño del vocabulario de otomí:\", len(otomi_vocabulary))\n",
    "print(\"Tamaño del vocabulario de español (corpus 2):\", len(otomi_es_vocabulary))"
   ]
  },
  {
   "cell_type": "markdown",
   "id": "d1dcf8c5-04a5-4976-90ec-af676184b608",
   "metadata": {
    "editable": true,
    "jp-MarkdownHeadingCollapsed": true,
    "slideshow": {
     "slide_type": ""
    },
    "tags": []
   },
   "source": [
    "### ❓ ¿Cómo cambiarían estas estadísticas si no filtramos los signos de puntuación?"
   ]
  },
  {
   "cell_type": "markdown",
   "id": "402ff2fa-d1c7-4f11-9c76-fb99bd7f3126",
   "metadata": {},
   "source": [
    "Si no normalizamos aumenta el número de tipos lo cual \"ensucia\" los datos con los que vamos a trabajar. Ejemplo: `algo != algo,`"
   ]
  },
  {
   "cell_type": "markdown",
   "id": "a4306db2-01c8-45d7-8c89-fdaeb86a1f45",
   "metadata": {
    "editable": true,
    "jp-MarkdownHeadingCollapsed": true,
    "slideshow": {
     "slide_type": ""
    },
    "tags": []
   },
   "source": [
    "### ❓ ¿Cómo afecta la falta de normalización ortográfica en lenguas como el náhuatl"
   ]
  },
  {
   "cell_type": "markdown",
   "id": "3c5f74c9-2da5-43a6-8022-7b39fa9145f6",
   "metadata": {},
   "source": [
    "En lenguas como el nahúatl, la falta de normalización ortográfica y las variaciones diacrónicas del corpus, provocan que haya grafías diferentes que corresponden a una misma palabra. Ejemplo:\n",
    "\n",
    "- Yhuan-ihuan\n",
    "\n",
    "- Yn-in"
   ]
  },
  {
   "cell_type": "code",
   "execution_count": null,
   "id": "d1afb343-dedf-4efe-9b76-de1daa452387",
   "metadata": {},
   "outputs": [],
   "source": [
    "print(nahuatl_vocabulary[\"in\"])\n",
    "print(nahuatl_vocabulary[\"yn\"])"
   ]
  },
  {
   "cell_type": "markdown",
   "id": "f553dbf2-61ae-4138-97f4-676fb13aee9c",
   "metadata": {},
   "source": [
    "### Normalizador para el Nahúatl"
   ]
  },
  {
   "cell_type": "code",
   "execution_count": null,
   "id": "9e703dd6-36f6-4764-865d-6973e8d4fe7d",
   "metadata": {},
   "outputs": [],
   "source": [
    "from elotl.nahuatl import orthography\n",
    "\n",
    "normalizer = orthography.Normalizer(\"inali\")"
   ]
  },
  {
   "cell_type": "code",
   "execution_count": null,
   "id": "ed814c05-5ace-4853-a71c-3da1999901fa",
   "metadata": {
    "scrolled": true
   },
   "outputs": [],
   "source": [
    "help(normalizer)"
   ]
  },
  {
   "cell_type": "code",
   "execution_count": null,
   "id": "e52e6f47-c344-4d8b-91e9-3950cfaafe89",
   "metadata": {},
   "outputs": [],
   "source": [
    "nahuatl_words_normalized = [normalizer.normalize(word) for word in nahuatl_words]"
   ]
  },
  {
   "cell_type": "code",
   "execution_count": null,
   "id": "3e610cad-787c-4105-b9ef-e5bc6535a7f8",
   "metadata": {},
   "outputs": [],
   "source": [
    "nahuatl_norm_vocabulary = Counter(nahuatl_words_normalized)\n",
    "print(\"Tamaño del vocabulario (tipos) ANTES de normalizar:\", len(nahuatl_vocabulary))\n",
    "print(\"Tamaño del vocabulario (tipos) DESPUÉS de normalizar:\", len(nahuatl_norm_vocabulary))"
   ]
  },
  {
   "cell_type": "code",
   "execution_count": null,
   "id": "9825a1ba-2584-4162-ac83-fd9f2531bcce",
   "metadata": {
    "id": "g0AIsl6CQD1u"
   },
   "outputs": [],
   "source": [
    "def avg_len(tokens: list) -> float:\n",
    "    return sum(len(token) for token in tokens) / len(tokens)"
   ]
  },
  {
   "cell_type": "code",
   "execution_count": null,
   "id": "c0005eb9-b57e-47d9-bde8-6c379395da2c",
   "metadata": {
    "colab": {
     "base_uri": "https://localhost:8080/"
    },
    "executionInfo": {
     "elapsed": 168,
     "status": "ok",
     "timestamp": 1695682715742,
     "user": {
      "displayName": "Diego Alberto Barriga Martínez",
      "userId": "06235177150913802056"
     },
     "user_tz": 360
    },
    "id": "SAYvR6PrUWy7",
    "outputId": "bde55d9c-787d-48e6-8991-9a3849e30ad0"
   },
   "outputs": [],
   "source": [
    "print(\"Longitud promedio de palabras en nahúatl:\", avg_len(nahuatl_words))\n",
    "print(\"Longitud promedio de palabras en nahúatl (NORM):\", avg_len(nahuatl_words_normalized))\n",
    "print(\"Longitud promedio de palabras en otomí:\", avg_len(otomi_words))\n",
    "print(\"Longitud promedio de palabras en español (corpus 1):\", avg_len(spanish_words_na))\n",
    "print(\"Longitud promedio de palabras en español (corpus 2):\", avg_len(spanish_words_oto))"
   ]
  },
  {
   "cell_type": "markdown",
   "id": "95e689cb-011f-44db-913a-d45a322ba89e",
   "metadata": {
    "id": "1WKtSLMGte__"
   },
   "source": [
    "#### Ejercicio: Obtener la palabra más larga de cada lista de palabras (10 min) (0.5 pt extra 🔥)"
   ]
  },
  {
   "cell_type": "code",
   "execution_count": null,
   "id": "f867b2ba-db06-4d8d-b41d-0eb7cbe31639",
   "metadata": {
    "colab": {
     "base_uri": "https://localhost:8080/"
    },
    "executionInfo": {
     "elapsed": 146,
     "status": "ok",
     "timestamp": 1695683918598,
     "user": {
      "displayName": "Diego Alberto Barriga Martínez",
      "userId": "06235177150913802056"
     },
     "user_tz": 360
    },
    "id": "Qx2pXnJ8oVHW",
    "outputId": "7a4be667-fee4-4341-9fed-b3fc7d2f1fcb"
   },
   "outputs": [],
   "source": [
    "# Manda tu solucion en un PR :)"
   ]
  }
 ],
 "metadata": {
  "kernelspec": {
   "display_name": "Python 3 (ipykernel)",
   "language": "python",
   "name": "python3"
  },
  "language_info": {
   "codemirror_mode": {
    "name": "ipython",
    "version": 3
   },
   "file_extension": ".py",
   "mimetype": "text/x-python",
   "name": "python",
   "nbconvert_exporter": "python",
   "pygments_lexer": "ipython3",
   "version": "3.9.18"
  }
 },
 "nbformat": 4,
 "nbformat_minor": 5
}
